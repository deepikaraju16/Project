{
 "cells": [
  {
   "cell_type": "code",
   "execution_count": 1,
   "metadata": {},
   "outputs": [],
   "source": [
    "import numpy as np\n",
    "import pandas as pd\n",
    "import matplotlib.pyplot as plt"
   ]
  },
  {
   "cell_type": "code",
   "execution_count": 2,
   "metadata": {},
   "outputs": [
    {
     "data": {
      "text/html": [
       "<div>\n",
       "<style scoped>\n",
       "    .dataframe tbody tr th:only-of-type {\n",
       "        vertical-align: middle;\n",
       "    }\n",
       "\n",
       "    .dataframe tbody tr th {\n",
       "        vertical-align: top;\n",
       "    }\n",
       "\n",
       "    .dataframe thead th {\n",
       "        text-align: right;\n",
       "    }\n",
       "</style>\n",
       "<table border=\"1\" class=\"dataframe\">\n",
       "  <thead>\n",
       "    <tr style=\"text-align: right;\">\n",
       "      <th></th>\n",
       "      <th>Age</th>\n",
       "      <th>Department</th>\n",
       "      <th>EnvironmentSatisfaction</th>\n",
       "      <th>Gender</th>\n",
       "      <th>JobLevel</th>\n",
       "      <th>JobSatisfaction</th>\n",
       "      <th>MonthlyIncome</th>\n",
       "      <th>MonthlyRate</th>\n",
       "      <th>OverTime</th>\n",
       "      <th>PercentSalaryHike</th>\n",
       "      <th>PerformanceRating</th>\n",
       "      <th>YearsAtCompany</th>\n",
       "      <th>YearsInCurrentRole</th>\n",
       "      <th>YearsSinceLastPromotion</th>\n",
       "      <th>Attrition</th>\n",
       "    </tr>\n",
       "  </thead>\n",
       "  <tbody>\n",
       "    <tr>\n",
       "      <th>0</th>\n",
       "      <td>41</td>\n",
       "      <td>Sales</td>\n",
       "      <td>2</td>\n",
       "      <td>Female</td>\n",
       "      <td>2</td>\n",
       "      <td>4</td>\n",
       "      <td>5993</td>\n",
       "      <td>19479</td>\n",
       "      <td>Yes</td>\n",
       "      <td>11</td>\n",
       "      <td>3</td>\n",
       "      <td>6</td>\n",
       "      <td>4</td>\n",
       "      <td>0</td>\n",
       "      <td>Yes</td>\n",
       "    </tr>\n",
       "    <tr>\n",
       "      <th>1</th>\n",
       "      <td>49</td>\n",
       "      <td>Research &amp; Development</td>\n",
       "      <td>3</td>\n",
       "      <td>Male</td>\n",
       "      <td>2</td>\n",
       "      <td>2</td>\n",
       "      <td>5130</td>\n",
       "      <td>24907</td>\n",
       "      <td>No</td>\n",
       "      <td>23</td>\n",
       "      <td>4</td>\n",
       "      <td>10</td>\n",
       "      <td>7</td>\n",
       "      <td>1</td>\n",
       "      <td>No</td>\n",
       "    </tr>\n",
       "    <tr>\n",
       "      <th>2</th>\n",
       "      <td>37</td>\n",
       "      <td>Research &amp; Development</td>\n",
       "      <td>4</td>\n",
       "      <td>Male</td>\n",
       "      <td>1</td>\n",
       "      <td>3</td>\n",
       "      <td>2090</td>\n",
       "      <td>2396</td>\n",
       "      <td>Yes</td>\n",
       "      <td>15</td>\n",
       "      <td>3</td>\n",
       "      <td>0</td>\n",
       "      <td>0</td>\n",
       "      <td>0</td>\n",
       "      <td>Yes</td>\n",
       "    </tr>\n",
       "    <tr>\n",
       "      <th>3</th>\n",
       "      <td>33</td>\n",
       "      <td>Research &amp; Development</td>\n",
       "      <td>4</td>\n",
       "      <td>Female</td>\n",
       "      <td>1</td>\n",
       "      <td>3</td>\n",
       "      <td>2909</td>\n",
       "      <td>23159</td>\n",
       "      <td>Yes</td>\n",
       "      <td>11</td>\n",
       "      <td>3</td>\n",
       "      <td>8</td>\n",
       "      <td>7</td>\n",
       "      <td>3</td>\n",
       "      <td>No</td>\n",
       "    </tr>\n",
       "    <tr>\n",
       "      <th>4</th>\n",
       "      <td>27</td>\n",
       "      <td>Research &amp; Development</td>\n",
       "      <td>1</td>\n",
       "      <td>Male</td>\n",
       "      <td>1</td>\n",
       "      <td>2</td>\n",
       "      <td>3468</td>\n",
       "      <td>16632</td>\n",
       "      <td>No</td>\n",
       "      <td>12</td>\n",
       "      <td>3</td>\n",
       "      <td>2</td>\n",
       "      <td>2</td>\n",
       "      <td>2</td>\n",
       "      <td>No</td>\n",
       "    </tr>\n",
       "  </tbody>\n",
       "</table>\n",
       "</div>"
      ],
      "text/plain": [
       "   Age              Department  EnvironmentSatisfaction  Gender  JobLevel  \\\n",
       "0   41                   Sales                        2  Female         2   \n",
       "1   49  Research & Development                        3    Male         2   \n",
       "2   37  Research & Development                        4    Male         1   \n",
       "3   33  Research & Development                        4  Female         1   \n",
       "4   27  Research & Development                        1    Male         1   \n",
       "\n",
       "   JobSatisfaction  MonthlyIncome  MonthlyRate OverTime  PercentSalaryHike  \\\n",
       "0                4           5993        19479      Yes                 11   \n",
       "1                2           5130        24907       No                 23   \n",
       "2                3           2090         2396      Yes                 15   \n",
       "3                3           2909        23159      Yes                 11   \n",
       "4                2           3468        16632       No                 12   \n",
       "\n",
       "   PerformanceRating  YearsAtCompany  YearsInCurrentRole  \\\n",
       "0                  3               6                   4   \n",
       "1                  4              10                   7   \n",
       "2                  3               0                   0   \n",
       "3                  3               8                   7   \n",
       "4                  3               2                   2   \n",
       "\n",
       "   YearsSinceLastPromotion Attrition  \n",
       "0                        0       Yes  \n",
       "1                        1        No  \n",
       "2                        0       Yes  \n",
       "3                        3        No  \n",
       "4                        2        No  "
      ]
     },
     "execution_count": 2,
     "metadata": {},
     "output_type": "execute_result"
    }
   ],
   "source": [
    "\n",
    "import types\n",
    "import pandas as pd\n",
    "from botocore.client import Config\n",
    "import ibm_boto3\n",
    "\n",
    "def __iter__(self): return 0\n",
    "\n",
    "# @hidden_cell\n",
    "# The following code accesses a file in your IBM Cloud Object Storage. It includes your credentials.\n",
    "# You might want to remove those credentials before you share your notebook.\n",
    "client_3032b2439ebd429882097d9e71584e90 = ibm_boto3.client(service_name='s3',\n",
    "    ibm_api_key_id='0L9JKR0MK73oxI6LktSKykXyQupRDp069_Ls4KwY16ur',\n",
    "    ibm_auth_endpoint=\"https://iam.bluemix.net/oidc/token\",\n",
    "    config=Config(signature_version='oauth'),\n",
    "    endpoint_url='https://s3.eu-geo.objectstorage.service.networklayer.com')\n",
    "\n",
    "body = client_3032b2439ebd429882097d9e71584e90.get_object(Bucket='employeeattritionprediction-donotdelete-pr-m3c6rd3rqpexwo',Key='employee_attrition.csv')['Body']\n",
    "# add missing __iter__ method, so pandas accepts body as file-like object\n",
    "if not hasattr(body, \"__iter__\"): body.__iter__ = types.MethodType( __iter__, body )\n",
    "\n",
    "dataset = pd.read_csv(body)\n",
    "dataset.head()\n",
    "\n"
   ]
  },
  {
   "cell_type": "code",
   "execution_count": 3,
   "metadata": {},
   "outputs": [
    {
     "data": {
      "text/plain": [
       "Age                        False\n",
       "Department                 False\n",
       "EnvironmentSatisfaction    False\n",
       "Gender                     False\n",
       "JobLevel                   False\n",
       "JobSatisfaction            False\n",
       "MonthlyIncome              False\n",
       "MonthlyRate                False\n",
       "OverTime                   False\n",
       "PercentSalaryHike          False\n",
       "PerformanceRating          False\n",
       "YearsAtCompany             False\n",
       "YearsInCurrentRole         False\n",
       "YearsSinceLastPromotion    False\n",
       "Attrition                  False\n",
       "dtype: bool"
      ]
     },
     "execution_count": 3,
     "metadata": {},
     "output_type": "execute_result"
    }
   ],
   "source": [
    "dataset.isnull().any()"
   ]
  },
  {
   "cell_type": "code",
   "execution_count": 3,
   "metadata": {},
   "outputs": [
    {
     "data": {
      "text/html": [
       "<div>\n",
       "<style scoped>\n",
       "    .dataframe tbody tr th:only-of-type {\n",
       "        vertical-align: middle;\n",
       "    }\n",
       "\n",
       "    .dataframe tbody tr th {\n",
       "        vertical-align: top;\n",
       "    }\n",
       "\n",
       "    .dataframe thead th {\n",
       "        text-align: right;\n",
       "    }\n",
       "</style>\n",
       "<table border=\"1\" class=\"dataframe\">\n",
       "  <thead>\n",
       "    <tr style=\"text-align: right;\">\n",
       "      <th></th>\n",
       "      <th>Age</th>\n",
       "      <th>EnvironmentSatisfaction</th>\n",
       "      <th>JobLevel</th>\n",
       "      <th>JobSatisfaction</th>\n",
       "      <th>MonthlyIncome</th>\n",
       "      <th>MonthlyRate</th>\n",
       "      <th>PercentSalaryHike</th>\n",
       "      <th>PerformanceRating</th>\n",
       "      <th>YearsAtCompany</th>\n",
       "      <th>YearsInCurrentRole</th>\n",
       "      <th>YearsSinceLastPromotion</th>\n",
       "    </tr>\n",
       "  </thead>\n",
       "  <tbody>\n",
       "    <tr>\n",
       "      <th>Age</th>\n",
       "      <td>1.000000</td>\n",
       "      <td>-0.075234</td>\n",
       "      <td>0.519813</td>\n",
       "      <td>-0.065572</td>\n",
       "      <td>0.509927</td>\n",
       "      <td>-0.029206</td>\n",
       "      <td>-0.068962</td>\n",
       "      <td>0.024815</td>\n",
       "      <td>0.336463</td>\n",
       "      <td>0.227841</td>\n",
       "      <td>0.197549</td>\n",
       "    </tr>\n",
       "    <tr>\n",
       "      <th>EnvironmentSatisfaction</th>\n",
       "      <td>-0.075234</td>\n",
       "      <td>1.000000</td>\n",
       "      <td>-0.089060</td>\n",
       "      <td>0.049150</td>\n",
       "      <td>-0.101238</td>\n",
       "      <td>-0.102443</td>\n",
       "      <td>-0.109606</td>\n",
       "      <td>-0.134736</td>\n",
       "      <td>-0.061696</td>\n",
       "      <td>-0.075233</td>\n",
       "      <td>-0.053293</td>\n",
       "    </tr>\n",
       "    <tr>\n",
       "      <th>JobLevel</th>\n",
       "      <td>0.519813</td>\n",
       "      <td>-0.089060</td>\n",
       "      <td>1.000000</td>\n",
       "      <td>0.021611</td>\n",
       "      <td>0.949796</td>\n",
       "      <td>0.059110</td>\n",
       "      <td>-0.142860</td>\n",
       "      <td>-0.100194</td>\n",
       "      <td>0.576786</td>\n",
       "      <td>0.498994</td>\n",
       "      <td>0.478078</td>\n",
       "    </tr>\n",
       "    <tr>\n",
       "      <th>JobSatisfaction</th>\n",
       "      <td>-0.065572</td>\n",
       "      <td>0.049150</td>\n",
       "      <td>0.021611</td>\n",
       "      <td>1.000000</td>\n",
       "      <td>0.007998</td>\n",
       "      <td>0.063698</td>\n",
       "      <td>-0.040177</td>\n",
       "      <td>-0.065818</td>\n",
       "      <td>0.032070</td>\n",
       "      <td>-0.008924</td>\n",
       "      <td>-0.017174</td>\n",
       "    </tr>\n",
       "    <tr>\n",
       "      <th>MonthlyIncome</th>\n",
       "      <td>0.509927</td>\n",
       "      <td>-0.101238</td>\n",
       "      <td>0.949796</td>\n",
       "      <td>0.007998</td>\n",
       "      <td>1.000000</td>\n",
       "      <td>0.053460</td>\n",
       "      <td>-0.138066</td>\n",
       "      <td>-0.104936</td>\n",
       "      <td>0.549832</td>\n",
       "      <td>0.463170</td>\n",
       "      <td>0.474115</td>\n",
       "    </tr>\n",
       "    <tr>\n",
       "      <th>MonthlyRate</th>\n",
       "      <td>-0.029206</td>\n",
       "      <td>-0.102443</td>\n",
       "      <td>0.059110</td>\n",
       "      <td>0.063698</td>\n",
       "      <td>0.053460</td>\n",
       "      <td>1.000000</td>\n",
       "      <td>-0.074552</td>\n",
       "      <td>-0.092463</td>\n",
       "      <td>-0.080049</td>\n",
       "      <td>-0.070025</td>\n",
       "      <td>-0.161449</td>\n",
       "    </tr>\n",
       "    <tr>\n",
       "      <th>PercentSalaryHike</th>\n",
       "      <td>-0.068962</td>\n",
       "      <td>-0.109606</td>\n",
       "      <td>-0.142860</td>\n",
       "      <td>-0.040177</td>\n",
       "      <td>-0.138066</td>\n",
       "      <td>-0.074552</td>\n",
       "      <td>1.000000</td>\n",
       "      <td>0.833681</td>\n",
       "      <td>-0.077003</td>\n",
       "      <td>-0.091042</td>\n",
       "      <td>-0.042685</td>\n",
       "    </tr>\n",
       "    <tr>\n",
       "      <th>PerformanceRating</th>\n",
       "      <td>0.024815</td>\n",
       "      <td>-0.134736</td>\n",
       "      <td>-0.100194</td>\n",
       "      <td>-0.065818</td>\n",
       "      <td>-0.104936</td>\n",
       "      <td>-0.092463</td>\n",
       "      <td>0.833681</td>\n",
       "      <td>1.000000</td>\n",
       "      <td>-0.020756</td>\n",
       "      <td>-0.040821</td>\n",
       "      <td>0.008324</td>\n",
       "    </tr>\n",
       "    <tr>\n",
       "      <th>YearsAtCompany</th>\n",
       "      <td>0.336463</td>\n",
       "      <td>-0.061696</td>\n",
       "      <td>0.576786</td>\n",
       "      <td>0.032070</td>\n",
       "      <td>0.549832</td>\n",
       "      <td>-0.080049</td>\n",
       "      <td>-0.077003</td>\n",
       "      <td>-0.020756</td>\n",
       "      <td>1.000000</td>\n",
       "      <td>0.791276</td>\n",
       "      <td>0.657272</td>\n",
       "    </tr>\n",
       "    <tr>\n",
       "      <th>YearsInCurrentRole</th>\n",
       "      <td>0.227841</td>\n",
       "      <td>-0.075233</td>\n",
       "      <td>0.498994</td>\n",
       "      <td>-0.008924</td>\n",
       "      <td>0.463170</td>\n",
       "      <td>-0.070025</td>\n",
       "      <td>-0.091042</td>\n",
       "      <td>-0.040821</td>\n",
       "      <td>0.791276</td>\n",
       "      <td>1.000000</td>\n",
       "      <td>0.607879</td>\n",
       "    </tr>\n",
       "    <tr>\n",
       "      <th>YearsSinceLastPromotion</th>\n",
       "      <td>0.197549</td>\n",
       "      <td>-0.053293</td>\n",
       "      <td>0.478078</td>\n",
       "      <td>-0.017174</td>\n",
       "      <td>0.474115</td>\n",
       "      <td>-0.161449</td>\n",
       "      <td>-0.042685</td>\n",
       "      <td>0.008324</td>\n",
       "      <td>0.657272</td>\n",
       "      <td>0.607879</td>\n",
       "      <td>1.000000</td>\n",
       "    </tr>\n",
       "  </tbody>\n",
       "</table>\n",
       "</div>"
      ],
      "text/plain": [
       "                              Age  EnvironmentSatisfaction  JobLevel  \\\n",
       "Age                      1.000000                -0.075234  0.519813   \n",
       "EnvironmentSatisfaction -0.075234                 1.000000 -0.089060   \n",
       "JobLevel                 0.519813                -0.089060  1.000000   \n",
       "JobSatisfaction         -0.065572                 0.049150  0.021611   \n",
       "MonthlyIncome            0.509927                -0.101238  0.949796   \n",
       "MonthlyRate             -0.029206                -0.102443  0.059110   \n",
       "PercentSalaryHike       -0.068962                -0.109606 -0.142860   \n",
       "PerformanceRating        0.024815                -0.134736 -0.100194   \n",
       "YearsAtCompany           0.336463                -0.061696  0.576786   \n",
       "YearsInCurrentRole       0.227841                -0.075233  0.498994   \n",
       "YearsSinceLastPromotion  0.197549                -0.053293  0.478078   \n",
       "\n",
       "                         JobSatisfaction  MonthlyIncome  MonthlyRate  \\\n",
       "Age                            -0.065572       0.509927    -0.029206   \n",
       "EnvironmentSatisfaction         0.049150      -0.101238    -0.102443   \n",
       "JobLevel                        0.021611       0.949796     0.059110   \n",
       "JobSatisfaction                 1.000000       0.007998     0.063698   \n",
       "MonthlyIncome                   0.007998       1.000000     0.053460   \n",
       "MonthlyRate                     0.063698       0.053460     1.000000   \n",
       "PercentSalaryHike              -0.040177      -0.138066    -0.074552   \n",
       "PerformanceRating              -0.065818      -0.104936    -0.092463   \n",
       "YearsAtCompany                  0.032070       0.549832    -0.080049   \n",
       "YearsInCurrentRole             -0.008924       0.463170    -0.070025   \n",
       "YearsSinceLastPromotion        -0.017174       0.474115    -0.161449   \n",
       "\n",
       "                         PercentSalaryHike  PerformanceRating  YearsAtCompany  \\\n",
       "Age                              -0.068962           0.024815        0.336463   \n",
       "EnvironmentSatisfaction          -0.109606          -0.134736       -0.061696   \n",
       "JobLevel                         -0.142860          -0.100194        0.576786   \n",
       "JobSatisfaction                  -0.040177          -0.065818        0.032070   \n",
       "MonthlyIncome                    -0.138066          -0.104936        0.549832   \n",
       "MonthlyRate                      -0.074552          -0.092463       -0.080049   \n",
       "PercentSalaryHike                 1.000000           0.833681       -0.077003   \n",
       "PerformanceRating                 0.833681           1.000000       -0.020756   \n",
       "YearsAtCompany                   -0.077003          -0.020756        1.000000   \n",
       "YearsInCurrentRole               -0.091042          -0.040821        0.791276   \n",
       "YearsSinceLastPromotion          -0.042685           0.008324        0.657272   \n",
       "\n",
       "                         YearsInCurrentRole  YearsSinceLastPromotion  \n",
       "Age                                0.227841                 0.197549  \n",
       "EnvironmentSatisfaction           -0.075233                -0.053293  \n",
       "JobLevel                           0.498994                 0.478078  \n",
       "JobSatisfaction                   -0.008924                -0.017174  \n",
       "MonthlyIncome                      0.463170                 0.474115  \n",
       "MonthlyRate                       -0.070025                -0.161449  \n",
       "PercentSalaryHike                 -0.091042                -0.042685  \n",
       "PerformanceRating                 -0.040821                 0.008324  \n",
       "YearsAtCompany                     0.791276                 0.657272  \n",
       "YearsInCurrentRole                 1.000000                 0.607879  \n",
       "YearsSinceLastPromotion            0.607879                 1.000000  "
      ]
     },
     "execution_count": 3,
     "metadata": {},
     "output_type": "execute_result"
    }
   ],
   "source": [
    "dataset.corr()"
   ]
  },
  {
   "cell_type": "code",
   "execution_count": 4,
   "metadata": {},
   "outputs": [],
   "source": [
    "import seaborn as sns "
   ]
  },
  {
   "cell_type": "code",
   "execution_count": 5,
   "metadata": {},
   "outputs": [
    {
     "data": {
      "text/plain": [
       "<matplotlib.axes._subplots.AxesSubplot at 0x7f9d10b98b70>"
      ]
     },
     "execution_count": 5,
     "metadata": {},
     "output_type": "execute_result"
    },
    {
     "data": {
      "image/png": "[encoded data removed]",
      "text/plain": [
       "<matplotlib.figure.Figure at 0x7f9d10b98b00>"
      ]
     },
     "metadata": {},
     "output_type": "display_data"
    }
   ],
   "source": [
    "sns.heatmap(dataset.corr(),annot=True)"
   ]
  },
  {
   "cell_type": "code",
   "execution_count": 4,
   "metadata": {},
   "outputs": [],
   "source": [
    "x=dataset.iloc[:,0:14].values"
   ]
  },
  {
   "cell_type": "code",
   "execution_count": 5,
   "metadata": {},
   "outputs": [
    {
     "data": {
      "text/plain": [
       "array([[41, 'Sales', 2, ..., 6, 4, 0],\n",
       "       [49, 'Research & Development', 3, ..., 10, 7, 1],\n",
       "       [37, 'Research & Development', 4, ..., 0, 0, 0],\n",
       "       ..., \n",
       "       [35, 'Research & Development', 2, ..., 6, 2, 1],\n",
       "       [42, 'Research & Development', 3, ..., 5, 3, 0],\n",
       "       [38, 'Research & Development', 4, ..., 1, 0, 0]], dtype=object)"
      ]
     },
     "execution_count": 5,
     "metadata": {},
     "output_type": "execute_result"
    }
   ],
   "source": [
    "x"
   ]
  },
  {
   "cell_type": "code",
   "execution_count": 6,
   "metadata": {},
   "outputs": [],
   "source": [
    "y=dataset.iloc[:,14:].values"
   ]
  },
  {
   "cell_type": "code",
   "execution_count": 7,
   "metadata": {},
   "outputs": [
    {
     "data": {
      "text/plain": [
       "array([['Yes'],\n",
       "       ['No'],\n",
       "       ['Yes'],\n",
       "       ['No'],\n",
       "       ['No'],\n",
       "       ['No'],\n",
       "       ['No'],\n",
       "       ['No'],\n",
       "       ['No'],\n",
       "       ['No'],\n",
       "       ['No'],\n",
       "       ['No'],\n",
       "       ['No'],\n",
       "       ['No'],\n",
       "       ['Yes'],\n",
       "       ['No'],\n",
       "       ['No'],\n",
       "       ['No'],\n",
       "       ['No'],\n",
       "       ['No'],\n",
       "       ['No'],\n",
       "       ['Yes'],\n",
       "       ['No'],\n",
       "       ['No'],\n",
       "       ['Yes'],\n",
       "       ['No'],\n",
       "       ['Yes'],\n",
       "       ['No'],\n",
       "       ['No'],\n",
       "       ['No'],\n",
       "       ['No'],\n",
       "       ['No'],\n",
       "       ['No'],\n",
       "       ['Yes'],\n",
       "       ['Yes'],\n",
       "       ['No'],\n",
       "       ['Yes'],\n",
       "       ['No'],\n",
       "       ['No'],\n",
       "       ['No'],\n",
       "       ['No'],\n",
       "       ['No'],\n",
       "       ['Yes'],\n",
       "       ['No'],\n",
       "       ['No'],\n",
       "       ['Yes'],\n",
       "       ['No'],\n",
       "       ['No'],\n",
       "       ['No'],\n",
       "       ['No'],\n",
       "       ['Yes'],\n",
       "       ['Yes'],\n",
       "       ['No'],\n",
       "       ['No'],\n",
       "       ['No'],\n",
       "       ['No'],\n",
       "       ['No'],\n",
       "       ['No'],\n",
       "       ['No'],\n",
       "       ['No'],\n",
       "       ['No'],\n",
       "       ['No'],\n",
       "       ['No'],\n",
       "       ['No'],\n",
       "       ['No'],\n",
       "       ['No'],\n",
       "       ['No'],\n",
       "       ['No'],\n",
       "       ['No'],\n",
       "       ['Yes'],\n",
       "       ['No'],\n",
       "       ['No'],\n",
       "       ['No'],\n",
       "       ['No'],\n",
       "       ['No'],\n",
       "       ['No'],\n",
       "       ['No'],\n",
       "       ['No'],\n",
       "       ['No'],\n",
       "       ['No'],\n",
       "       ['No'],\n",
       "       ['No'],\n",
       "       ['No'],\n",
       "       ['No'],\n",
       "       ['No'],\n",
       "       ['No'],\n",
       "       ['No'],\n",
       "       ['No'],\n",
       "       ['No'],\n",
       "       ['Yes'],\n",
       "       ['No'],\n",
       "       ['No'],\n",
       "       ['No'],\n",
       "       ['No'],\n",
       "       ['No'],\n",
       "       ['No'],\n",
       "       ['No'],\n",
       "       ['No'],\n",
       "       ['No'],\n",
       "       ['No'],\n",
       "       ['Yes'],\n",
       "       ['No'],\n",
       "       ['Yes'],\n",
       "       ['No'],\n",
       "       ['No'],\n",
       "       ['No'],\n",
       "       ['No'],\n",
       "       ['Yes'],\n",
       "       ['No'],\n",
       "       ['No'],\n",
       "       ['No'],\n",
       "       ['Yes'],\n",
       "       ['No'],\n",
       "       ['No'],\n",
       "       ['No'],\n",
       "       ['No'],\n",
       "       ['No'],\n",
       "       ['No'],\n",
       "       ['No'],\n",
       "       ['No'],\n",
       "       ['No'],\n",
       "       ['No'],\n",
       "       ['Yes'],\n",
       "       ['No'],\n",
       "       ['Yes'],\n",
       "       ['No'],\n",
       "       ['Yes'],\n",
       "       ['Yes'],\n",
       "       ['No'],\n",
       "       ['No'],\n",
       "       ['No'],\n",
       "       ['No'],\n",
       "       ['Yes'],\n",
       "       ['No'],\n",
       "       ['No'],\n",
       "       ['No'],\n",
       "       ['Yes'],\n",
       "       ['No'],\n",
       "       ['No'],\n",
       "       ['No'],\n",
       "       ['Yes'],\n",
       "       ['No'],\n",
       "       ['No'],\n",
       "       ['No'],\n",
       "       ['No'],\n",
       "       ['No'],\n",
       "       ['No'],\n",
       "       ['No'],\n",
       "       ['No'],\n",
       "       ['No'],\n",
       "       ['No'],\n",
       "       ['No'],\n",
       "       ['No'],\n",
       "       ['No'],\n",
       "       ['No'],\n",
       "       ['No'],\n",
       "       ['No'],\n",
       "       ['No'],\n",
       "       ['No'],\n",
       "       ['No'],\n",
       "       ['No'],\n",
       "       ['No'],\n",
       "       ['No'],\n",
       "       ['No'],\n",
       "       ['No'],\n",
       "       ['No'],\n",
       "       ['No'],\n",
       "       ['No'],\n",
       "       ['No'],\n",
       "       ['No'],\n",
       "       ['No'],\n",
       "       ['Yes'],\n",
       "       ['No'],\n",
       "       ['No'],\n",
       "       ['No'],\n",
       "       ['No'],\n",
       "       ['No'],\n",
       "       ['Yes'],\n",
       "       ['No'],\n",
       "       ['No'],\n",
       "       ['No'],\n",
       "       ['No'],\n",
       "       ['Yes'],\n",
       "       ['No'],\n",
       "       ['No'],\n",
       "       ['No'],\n",
       "       ['No'],\n",
       "       ['No'],\n",
       "       ['No'],\n",
       "       ['No'],\n",
       "       ['No'],\n",
       "       ['No'],\n",
       "       ['Yes'],\n",
       "       ['No'],\n",
       "       ['No'],\n",
       "       ['No'],\n",
       "       ['No'],\n",
       "       ['No'],\n",
       "       ['No']], dtype=object)"
      ]
     },
     "execution_count": 7,
     "metadata": {},
     "output_type": "execute_result"
    }
   ],
   "source": [
    "y"
   ]
  },
  {
   "cell_type": "code",
   "execution_count": 8,
   "metadata": {},
   "outputs": [],
   "source": [
    " from sklearn.preprocessing import LabelEncoder"
   ]
  },
  {
   "cell_type": "code",
   "execution_count": 9,
   "metadata": {},
   "outputs": [],
   "source": [
    "lb=LabelEncoder()"
   ]
  },
  {
   "cell_type": "code",
   "execution_count": 10,
   "metadata": {},
   "outputs": [],
   "source": [
    "x[:,1]=lb.fit_transform(x[:,1])"
   ]
  },
  {
   "cell_type": "code",
   "execution_count": 11,
   "metadata": {},
   "outputs": [],
   "source": [
    "lb1=LabelEncoder()\n",
    "x[:,3]=lb1.fit_transform(x[:,3])"
   ]
  },
  {
   "cell_type": "code",
   "execution_count": 12,
   "metadata": {},
   "outputs": [],
   "source": [
    "lb2=LabelEncoder()\n",
    "x[:,8]=lb2.fit_transform(x[:,8])"
   ]
  },
  {
   "cell_type": "code",
   "execution_count": 74,
   "metadata": {},
   "outputs": [
    {
     "data": {
      "text/plain": [
       "array(['Female', 'Male'], dtype=object)"
      ]
     },
     "execution_count": 74,
     "metadata": {},
     "output_type": "execute_result"
    }
   ],
   "source": [
    "lb1.classes_"
   ]
  },
  {
   "cell_type": "code",
   "execution_count": 14,
   "metadata": {},
   "outputs": [],
   "source": [
    "y[:,0]=lb.fit_transform(y[:,0])"
   ]
  },
  {
   "cell_type": "code",
   "execution_count": 15,
   "metadata": {},
   "outputs": [
    {
     "data": {
      "text/plain": [
       "array([[1],\n",
       "       [0],\n",
       "       [1],\n",
       "       [0],\n",
       "       [0],\n",
       "       [0],\n",
       "       [0],\n",
       "       [0],\n",
       "       [0],\n",
       "       [0],\n",
       "       [0],\n",
       "       [0],\n",
       "       [0],\n",
       "       [0],\n",
       "       [1],\n",
       "       [0],\n",
       "       [0],\n",
       "       [0],\n",
       "       [0],\n",
       "       [0],\n",
       "       [0],\n",
       "       [1],\n",
       "       [0],\n",
       "       [0],\n",
       "       [1],\n",
       "       [0],\n",
       "       [1],\n",
       "       [0],\n",
       "       [0],\n",
       "       [0],\n",
       "       [0],\n",
       "       [0],\n",
       "       [0],\n",
       "       [1],\n",
       "       [1],\n",
       "       [0],\n",
       "       [1],\n",
       "       [0],\n",
       "       [0],\n",
       "       [0],\n",
       "       [0],\n",
       "       [0],\n",
       "       [1],\n",
       "       [0],\n",
       "       [0],\n",
       "       [1],\n",
       "       [0],\n",
       "       [0],\n",
       "       [0],\n",
       "       [0],\n",
       "       [1],\n",
       "       [1],\n",
       "       [0],\n",
       "       [0],\n",
       "       [0],\n",
       "       [0],\n",
       "       [0],\n",
       "       [0],\n",
       "       [0],\n",
       "       [0],\n",
       "       [0],\n",
       "       [0],\n",
       "       [0],\n",
       "       [0],\n",
       "       [0],\n",
       "       [0],\n",
       "       [0],\n",
       "       [0],\n",
       "       [0],\n",
       "       [1],\n",
       "       [0],\n",
       "       [0],\n",
       "       [0],\n",
       "       [0],\n",
       "       [0],\n",
       "       [0],\n",
       "       [0],\n",
       "       [0],\n",
       "       [0],\n",
       "       [0],\n",
       "       [0],\n",
       "       [0],\n",
       "       [0],\n",
       "       [0],\n",
       "       [0],\n",
       "       [0],\n",
       "       [0],\n",
       "       [0],\n",
       "       [0],\n",
       "       [1],\n",
       "       [0],\n",
       "       [0],\n",
       "       [0],\n",
       "       [0],\n",
       "       [0],\n",
       "       [0],\n",
       "       [0],\n",
       "       [0],\n",
       "       [0],\n",
       "       [0],\n",
       "       [1],\n",
       "       [0],\n",
       "       [1],\n",
       "       [0],\n",
       "       [0],\n",
       "       [0],\n",
       "       [0],\n",
       "       [1],\n",
       "       [0],\n",
       "       [0],\n",
       "       [0],\n",
       "       [1],\n",
       "       [0],\n",
       "       [0],\n",
       "       [0],\n",
       "       [0],\n",
       "       [0],\n",
       "       [0],\n",
       "       [0],\n",
       "       [0],\n",
       "       [0],\n",
       "       [0],\n",
       "       [1],\n",
       "       [0],\n",
       "       [1],\n",
       "       [0],\n",
       "       [1],\n",
       "       [1],\n",
       "       [0],\n",
       "       [0],\n",
       "       [0],\n",
       "       [0],\n",
       "       [1],\n",
       "       [0],\n",
       "       [0],\n",
       "       [0],\n",
       "       [1],\n",
       "       [0],\n",
       "       [0],\n",
       "       [0],\n",
       "       [1],\n",
       "       [0],\n",
       "       [0],\n",
       "       [0],\n",
       "       [0],\n",
       "       [0],\n",
       "       [0],\n",
       "       [0],\n",
       "       [0],\n",
       "       [0],\n",
       "       [0],\n",
       "       [0],\n",
       "       [0],\n",
       "       [0],\n",
       "       [0],\n",
       "       [0],\n",
       "       [0],\n",
       "       [0],\n",
       "       [0],\n",
       "       [0],\n",
       "       [0],\n",
       "       [0],\n",
       "       [0],\n",
       "       [0],\n",
       "       [0],\n",
       "       [0],\n",
       "       [0],\n",
       "       [0],\n",
       "       [0],\n",
       "       [0],\n",
       "       [0],\n",
       "       [1],\n",
       "       [0],\n",
       "       [0],\n",
       "       [0],\n",
       "       [0],\n",
       "       [0],\n",
       "       [1],\n",
       "       [0],\n",
       "       [0],\n",
       "       [0],\n",
       "       [0],\n",
       "       [1],\n",
       "       [0],\n",
       "       [0],\n",
       "       [0],\n",
       "       [0],\n",
       "       [0],\n",
       "       [0],\n",
       "       [0],\n",
       "       [0],\n",
       "       [0],\n",
       "       [1],\n",
       "       [0],\n",
       "       [0],\n",
       "       [0],\n",
       "       [0],\n",
       "       [0],\n",
       "       [0]], dtype=object)"
      ]
     },
     "execution_count": 15,
     "metadata": {},
     "output_type": "execute_result"
    }
   ],
   "source": [
    "y"
   ]
  },
  {
   "cell_type": "code",
   "execution_count": 16,
   "metadata": {},
   "outputs": [],
   "source": [
    "from sklearn.model_selection import train_test_split"
   ]
  },
  {
   "cell_type": "code",
   "execution_count": 17,
   "metadata": {},
   "outputs": [],
   "source": [
    "x_train,x_test,y_train,y_test=train_test_split(x,y,test_size=0.2,random_state=0)"
   ]
  },
  {
   "cell_type": "code",
   "execution_count": 18,
   "metadata": {},
   "outputs": [
    {
     "data": {
      "text/plain": [
       "array([[45, 0, 2, ..., 17, 9, 0],\n",
       "       [36, 0, 2, ..., 6, 5, 0],\n",
       "       [32, 0, 2, ..., 10, 2, 6],\n",
       "       ..., \n",
       "       [36, 1, 2, ..., 9, 7, 2],\n",
       "       [37, 0, 2, ..., 1, 0, 0],\n",
       "       [36, 0, 4, ..., 8, 7, 7]], dtype=object)"
      ]
     },
     "execution_count": 18,
     "metadata": {},
     "output_type": "execute_result"
    }
   ],
   "source": [
    "x_train"
   ]
  },
  {
   "cell_type": "code",
   "execution_count": 19,
   "metadata": {},
   "outputs": [
    {
     "data": {
      "text/plain": [
       "array([[53, 1, 1, 0, 4, 4, 15427, 22021, 0, 16, 3, 25, 8, 3],\n",
       "       [32, 0, 3, 1, 1, 3, 3038, 12430, 0, 20, 4, 5, 4, 1],\n",
       "       [50, 0, 1, 0, 5, 2, 18172, 9755, 1, 19, 3, 8, 3, 0],\n",
       "       [30, 1, 3, 0, 2, 2, 5209, 19760, 1, 12, 3, 11, 8, 2],\n",
       "       [33, 0, 3, 1, 1, 4, 2500, 10515, 0, 14, 3, 3, 1, 0],\n",
       "       [50, 0, 3, 1, 1, 3, 3690, 3425, 0, 15, 3, 3, 2, 0],\n",
       "       [32, 0, 4, 1, 1, 4, 3068, 11864, 0, 13, 3, 7, 7, 3],\n",
       "       [30, 0, 3, 1, 2, 4, 6347, 13982, 1, 19, 3, 11, 9, 4],\n",
       "       [31, 0, 1, 1, 1, 3, 2911, 15170, 0, 17, 3, 5, 2, 4],\n",
       "       [22, 0, 3, 1, 1, 4, 2323, 11992, 0, 24, 4, 2, 2, 2],\n",
       "       [38, 0, 4, 0, 2, 4, 2406, 5456, 0, 11, 3, 10, 3, 9],\n",
       "       [31, 1, 2, 1, 2, 3, 6172, 20739, 1, 18, 3, 7, 7, 7],\n",
       "       [27, 0, 3, 1, 1, 3, 2566, 25326, 1, 15, 3, 1, 1, 0],\n",
       "       [30, 0, 4, 0, 1, 1, 3204, 10415, 0, 14, 3, 3, 2, 2],\n",
       "       [30, 0, 4, 1, 2, 4, 5126, 15998, 1, 12, 3, 10, 8, 3],\n",
       "       [30, 0, 4, 1, 1, 3, 2693, 13335, 0, 22, 4, 1, 0, 0],\n",
       "       [39, 1, 4, 1, 2, 4, 2086, 3335, 0, 14, 3, 1, 0, 0],\n",
       "       [49, 0, 3, 0, 2, 1, 6567, 5549, 0, 14, 3, 15, 11, 5],\n",
       "       [35, 1, 4, 0, 1, 4, 2014, 9687, 0, 13, 3, 2, 2, 2],\n",
       "       [36, 0, 2, 0, 1, 4, 3038, 22002, 0, 12, 3, 1, 0, 0],\n",
       "       [34, 1, 3, 0, 1, 3, 2231, 11314, 0, 18, 3, 4, 3, 1],\n",
       "       [32, 1, 4, 1, 2, 4, 4668, 22812, 0, 17, 3, 8, 7, 0],\n",
       "       [41, 0, 2, 0, 5, 3, 19545, 16280, 0, 12, 3, 22, 15, 15],\n",
       "       [40, 1, 3, 1, 3, 4, 10855, 8552, 0, 11, 3, 12, 11, 2],\n",
       "       [32, 0, 1, 1, 2, 4, 6162, 10877, 1, 22, 4, 9, 8, 7],\n",
       "       [56, 0, 2, 0, 1, 2, 4963, 4510, 1, 18, 3, 5, 4, 4],\n",
       "       [46, 1, 2, 0, 3, 1, 10453, 2137, 0, 25, 4, 24, 13, 15],\n",
       "       [53, 0, 4, 0, 2, 1, 4450, 26250, 0, 11, 3, 4, 2, 1],\n",
       "       [28, 1, 2, 1, 2, 3, 4221, 8863, 0, 15, 3, 5, 4, 0],\n",
       "       [30, 0, 3, 0, 2, 4, 4011, 10781, 0, 23, 4, 12, 8, 3],\n",
       "       [32, 0, 1, 1, 1, 2, 3298, 15053, 1, 12, 3, 6, 2, 0],\n",
       "       [33, 0, 1, 0, 3, 4, 13458, 15146, 1, 12, 3, 15, 14, 8],\n",
       "       [38, 0, 2, 0, 2, 4, 5329, 15717, 1, 12, 3, 13, 11, 1],\n",
       "       [51, 0, 1, 0, 3, 1, 7484, 25796, 0, 20, 4, 13, 12, 12],\n",
       "       [34, 0, 1, 0, 3, 2, 11994, 21293, 0, 11, 3, 12, 6, 2],\n",
       "       [34, 0, 4, 1, 2, 3, 9547, 14074, 0, 17, 3, 10, 9, 1],\n",
       "       [36, 0, 2, 1, 2, 2, 4941, 2819, 0, 20, 4, 3, 2, 0],\n",
       "       [27, 0, 1, 1, 1, 2, 3468, 16632, 0, 12, 3, 2, 2, 2],\n",
       "       [39, 1, 4, 0, 2, 3, 5902, 14590, 0, 14, 3, 15, 11, 5],\n",
       "       [43, 0, 4, 1, 1, 4, 2089, 5228, 0, 14, 3, 5, 4, 2]], dtype=object)"
      ]
     },
     "execution_count": 19,
     "metadata": {},
     "output_type": "execute_result"
    }
   ],
   "source": [
    "x_test"
   ]
  },
  {
   "cell_type": "code",
   "execution_count": 20,
   "metadata": {},
   "outputs": [
    {
     "data": {
      "text/plain": [
       "array([[0],\n",
       "       [0],\n",
       "       [1],\n",
       "       [0],\n",
       "       [0],\n",
       "       [0],\n",
       "       [0],\n",
       "       [0],\n",
       "       [0],\n",
       "       [0],\n",
       "       [0],\n",
       "       [0],\n",
       "       [0],\n",
       "       [0],\n",
       "       [0],\n",
       "       [1],\n",
       "       [0],\n",
       "       [0],\n",
       "       [0],\n",
       "       [0],\n",
       "       [0],\n",
       "       [1],\n",
       "       [0],\n",
       "       [0],\n",
       "       [0],\n",
       "       [1],\n",
       "       [0],\n",
       "       [0],\n",
       "       [1],\n",
       "       [0],\n",
       "       [0],\n",
       "       [1],\n",
       "       [0],\n",
       "       [0],\n",
       "       [0],\n",
       "       [0],\n",
       "       [0],\n",
       "       [1],\n",
       "       [0],\n",
       "       [0],\n",
       "       [0],\n",
       "       [0],\n",
       "       [0],\n",
       "       [1],\n",
       "       [0],\n",
       "       [1],\n",
       "       [0],\n",
       "       [0],\n",
       "       [1],\n",
       "       [0],\n",
       "       [0],\n",
       "       [0],\n",
       "       [0],\n",
       "       [0],\n",
       "       [1],\n",
       "       [0],\n",
       "       [0],\n",
       "       [0],\n",
       "       [1],\n",
       "       [0],\n",
       "       [0],\n",
       "       [1],\n",
       "       [1],\n",
       "       [0],\n",
       "       [0],\n",
       "       [0],\n",
       "       [0],\n",
       "       [0],\n",
       "       [0],\n",
       "       [1],\n",
       "       [0],\n",
       "       [0],\n",
       "       [0],\n",
       "       [0],\n",
       "       [0],\n",
       "       [0],\n",
       "       [0],\n",
       "       [0],\n",
       "       [0],\n",
       "       [0],\n",
       "       [0],\n",
       "       [0],\n",
       "       [0],\n",
       "       [1],\n",
       "       [0],\n",
       "       [0],\n",
       "       [0],\n",
       "       [0],\n",
       "       [0],\n",
       "       [0],\n",
       "       [0],\n",
       "       [0],\n",
       "       [0],\n",
       "       [0],\n",
       "       [0],\n",
       "       [0],\n",
       "       [0],\n",
       "       [1],\n",
       "       [0],\n",
       "       [0],\n",
       "       [1],\n",
       "       [0],\n",
       "       [0],\n",
       "       [0],\n",
       "       [0],\n",
       "       [0],\n",
       "       [0],\n",
       "       [1],\n",
       "       [0],\n",
       "       [1],\n",
       "       [0],\n",
       "       [0],\n",
       "       [0],\n",
       "       [0],\n",
       "       [0],\n",
       "       [0],\n",
       "       [0],\n",
       "       [1],\n",
       "       [0],\n",
       "       [0],\n",
       "       [0],\n",
       "       [0],\n",
       "       [0],\n",
       "       [1],\n",
       "       [0],\n",
       "       [0],\n",
       "       [0],\n",
       "       [0],\n",
       "       [0],\n",
       "       [0],\n",
       "       [0],\n",
       "       [0],\n",
       "       [0],\n",
       "       [0],\n",
       "       [0],\n",
       "       [0],\n",
       "       [0],\n",
       "       [0],\n",
       "       [0],\n",
       "       [0],\n",
       "       [0],\n",
       "       [0],\n",
       "       [0],\n",
       "       [0],\n",
       "       [0],\n",
       "       [0],\n",
       "       [1],\n",
       "       [0],\n",
       "       [0],\n",
       "       [0],\n",
       "       [1],\n",
       "       [1],\n",
       "       [0],\n",
       "       [0],\n",
       "       [0],\n",
       "       [1],\n",
       "       [0],\n",
       "       [0],\n",
       "       [0]], dtype=object)"
      ]
     },
     "execution_count": 20,
     "metadata": {},
     "output_type": "execute_result"
    }
   ],
   "source": [
    "y_train"
   ]
  },
  {
   "cell_type": "code",
   "execution_count": 21,
   "metadata": {},
   "outputs": [],
   "source": [
    "y_train=y_train.astype('int')"
   ]
  },
  {
   "cell_type": "code",
   "execution_count": 22,
   "metadata": {},
   "outputs": [
    {
     "data": {
      "text/plain": [
       "array([[0],\n",
       "       [0],\n",
       "       [0],\n",
       "       [0],\n",
       "       [0],\n",
       "       [0],\n",
       "       [0],\n",
       "       [0],\n",
       "       [0],\n",
       "       [0],\n",
       "       [0],\n",
       "       [1],\n",
       "       [0],\n",
       "       [0],\n",
       "       [0],\n",
       "       [0],\n",
       "       [1],\n",
       "       [0],\n",
       "       [0],\n",
       "       [0],\n",
       "       [0],\n",
       "       [0],\n",
       "       [1],\n",
       "       [0],\n",
       "       [0],\n",
       "       [1],\n",
       "       [0],\n",
       "       [0],\n",
       "       [0],\n",
       "       [0],\n",
       "       [0],\n",
       "       [0],\n",
       "       [0],\n",
       "       [0],\n",
       "       [0],\n",
       "       [0],\n",
       "       [0],\n",
       "       [0],\n",
       "       [0],\n",
       "       [0]], dtype=object)"
      ]
     },
     "execution_count": 22,
     "metadata": {},
     "output_type": "execute_result"
    }
   ],
   "source": [
    "y_test"
   ]
  },
  {
   "cell_type": "code",
   "execution_count": 46,
   "metadata": {},
   "outputs": [],
   "source": [
    "from sklearn.pipeline import Pipeline\n",
    "pipeline=Pipeline([('scalar',sc),('kn',knn)])"
   ]
  },
  {
   "cell_type": "code",
   "execution_count": 47,
   "metadata": {},
   "outputs": [],
   "source": [
    "model=pipeline.fit(x_train,y_train)"
   ]
  },
  {
   "cell_type": "code",
   "execution_count": 48,
   "metadata": {},
   "outputs": [],
   "source": [
    "from sklearn.neighbors import KNeighborsClassifier"
   ]
  },
  {
   "cell_type": "code",
   "execution_count": 49,
   "metadata": {},
   "outputs": [],
   "source": [
    "knn=KNeighborsClassifier(n_neighbors=5,p=2)"
   ]
  },
  {
   "cell_type": "code",
   "execution_count": 50,
   "metadata": {},
   "outputs": [
    {
     "data": {
      "text/plain": [
       "KNeighborsClassifier(algorithm='auto', leaf_size=30, metric='minkowski',\n",
       "           metric_params=None, n_jobs=1, n_neighbors=5, p=2,\n",
       "           weights='uniform')"
      ]
     },
     "execution_count": 50,
     "metadata": {},
     "output_type": "execute_result"
    }
   ],
   "source": [
    "knn.fit(x_train,y_train)"
   ]
  },
  {
   "cell_type": "code",
   "execution_count": 51,
   "metadata": {},
   "outputs": [],
   "source": [
    "y_pred=knn.predict(x_test)"
   ]
  },
  {
   "cell_type": "code",
   "execution_count": 52,
   "metadata": {},
   "outputs": [
    {
     "data": {
      "text/plain": [
       "array([0, 0, 0, 1, 0, 0, 0, 1, 0, 0, 0, 1, 1, 0, 0, 0, 0, 0, 0, 0, 0, 0, 0,\n",
       "       0, 0, 0, 0, 0, 0, 0, 1, 0, 0, 0, 0, 0, 0, 0, 0, 0])"
      ]
     },
     "execution_count": 52,
     "metadata": {},
     "output_type": "execute_result"
    }
   ],
   "source": [
    "y_pred"
   ]
  },
  {
   "cell_type": "code",
   "execution_count": 53,
   "metadata": {},
   "outputs": [
    {
     "data": {
      "text/plain": [
       "array([[0],\n",
       "       [0],\n",
       "       [0],\n",
       "       [0],\n",
       "       [0],\n",
       "       [0],\n",
       "       [0],\n",
       "       [0],\n",
       "       [0],\n",
       "       [0],\n",
       "       [0],\n",
       "       [1],\n",
       "       [0],\n",
       "       [0],\n",
       "       [0],\n",
       "       [0],\n",
       "       [1],\n",
       "       [0],\n",
       "       [0],\n",
       "       [0],\n",
       "       [0],\n",
       "       [0],\n",
       "       [1],\n",
       "       [0],\n",
       "       [0],\n",
       "       [1],\n",
       "       [0],\n",
       "       [0],\n",
       "       [0],\n",
       "       [0],\n",
       "       [0],\n",
       "       [0],\n",
       "       [0],\n",
       "       [0],\n",
       "       [0],\n",
       "       [0],\n",
       "       [0],\n",
       "       [0],\n",
       "       [0],\n",
       "       [0]])"
      ]
     },
     "execution_count": 53,
     "metadata": {},
     "output_type": "execute_result"
    }
   ],
   "source": [
    "y_test"
   ]
  },
  {
   "cell_type": "code",
   "execution_count": 54,
   "metadata": {},
   "outputs": [],
   "source": [
    "y_test=y_test.astype('int')"
   ]
  },
  {
   "cell_type": "code",
   "execution_count": 55,
   "metadata": {},
   "outputs": [],
   "source": [
    "from sklearn.metrics import accuracy_score"
   ]
  },
  {
   "cell_type": "code",
   "execution_count": 56,
   "metadata": {},
   "outputs": [
    {
     "name": "stdout",
     "output_type": "stream",
     "text": [
      "Accuracy score: 82.5 %\n"
     ]
    }
   ],
   "source": [
    "print(\"Accuracy score:\",accuracy_score(y_test,y_pred)*100,\"%\")"
   ]
  },
  {
   "cell_type": "code",
   "execution_count": 57,
   "metadata": {},
   "outputs": [],
   "source": [
    "from sklearn.metrics import confusion_matrix"
   ]
  },
  {
   "cell_type": "code",
   "execution_count": 58,
   "metadata": {},
   "outputs": [
    {
     "data": {
      "text/html": [
       "<div>\n",
       "<style scoped>\n",
       "    .dataframe tbody tr th:only-of-type {\n",
       "        vertical-align: middle;\n",
       "    }\n",
       "\n",
       "    .dataframe tbody tr th {\n",
       "        vertical-align: top;\n",
       "    }\n",
       "\n",
       "    .dataframe thead th {\n",
       "        text-align: right;\n",
       "    }\n",
       "</style>\n",
       "<table border=\"1\" class=\"dataframe\">\n",
       "  <thead>\n",
       "    <tr style=\"text-align: right;\">\n",
       "      <th></th>\n",
       "      <th>0</th>\n",
       "      <th>1</th>\n",
       "    </tr>\n",
       "  </thead>\n",
       "  <tbody>\n",
       "    <tr>\n",
       "      <th>0</th>\n",
       "      <td>32</td>\n",
       "      <td>4</td>\n",
       "    </tr>\n",
       "    <tr>\n",
       "      <th>1</th>\n",
       "      <td>3</td>\n",
       "      <td>1</td>\n",
       "    </tr>\n",
       "  </tbody>\n",
       "</table>\n",
       "</div>"
      ],
      "text/plain": [
       "    0  1\n",
       "0  32  4\n",
       "1   3  1"
      ]
     },
     "execution_count": 58,
     "metadata": {},
     "output_type": "execute_result"
    }
   ],
   "source": [
    "pd.DataFrame(confusion_matrix(y_test,y_pred))"
   ]
  },
  {
   "cell_type": "code",
   "execution_count": 59,
   "metadata": {},
   "outputs": [],
   "source": [
    "import sklearn.metrics as metrics\n",
    "fpr,tpr,threshold=metrics.roc_curve(y_test,y_pred)\n",
    "roc_auc=metrics.auc(fpr,tpr)"
   ]
  },
  {
   "cell_type": "code",
   "execution_count": 60,
   "metadata": {},
   "outputs": [
    {
     "data": {
      "text/plain": [
       "0.56944444444444442"
      ]
     },
     "execution_count": 60,
     "metadata": {},
     "output_type": "execute_result"
    }
   ],
   "source": [
    "roc_auc"
   ]
  },
  {
   "cell_type": "code",
   "execution_count": 61,
   "metadata": {},
   "outputs": [
    {
     "data": {
      "image/png": "[encoded data removed]",
      "text/plain": [
       "<matplotlib.figure.Figure at 0x7f55cf719fd0>"
      ]
     },
     "metadata": {},
     "output_type": "display_data"
    }
   ],
   "source": [
    "plt.plot(fpr,tpr,'b',label='AUC=%0.2f' % roc_auc,color=\"red\")\n",
    "plt.legend(loc='lower right')\n",
    "plt.xlim([0,1])\n",
    "plt.ylim([0,1])\n",
    "plt.xlabel(\"Employee data\")\n",
    "plt.ylabel(\"Employee attrition\")\n",
    "plt.title(\"Employee data vs Employee attrition\")\n",
    "plt.show()"
   ]
  },
  {
   "cell_type": "code",
   "execution_count": 62,
   "metadata": {},
   "outputs": [
    {
     "name": "stdout",
     "output_type": "stream",
     "text": [
      "Requirement already up-to-date: watson-machine-learning-client in /opt/conda/envs/DSX-Python35/lib/python3.5/site-packages (1.0.365)\n",
      "Requirement not upgraded as not directly required: lomond in /opt/conda/envs/DSX-Python35/lib/python3.5/site-packages (from watson-machine-learning-client) (0.1.13)\n",
      "Requirement not upgraded as not directly required: pandas in /opt/conda/envs/DSX-Python35/lib/python3.5/site-packages (from watson-machine-learning-client) (0.21.0)\n",
      "Requirement not upgraded as not directly required: tabulate in /opt/conda/envs/DSX-Python35/lib/python3.5/site-packages (from watson-machine-learning-client) (0.8.2)\n",
      "Requirement not upgraded as not directly required: ibm-cos-sdk in /opt/conda/envs/DSX-Python35/lib/python3.5/site-packages (from watson-machine-learning-client) (2.0.1)\n",
      "Requirement not upgraded as not directly required: certifi in /opt/conda/envs/DSX-Python35/lib/python3.5/site-packages (from watson-machine-learning-client) (2019.3.9)\n",
      "Requirement not upgraded as not directly required: tqdm in /opt/conda/envs/DSX-Python35/lib/python3.5/site-packages (from watson-machine-learning-client) (4.19.5)\n",
      "Requirement not upgraded as not directly required: urllib3 in /opt/conda/envs/DSX-Python35/lib/python3.5/site-packages (from watson-machine-learning-client) (1.22)\n",
      "Requirement not upgraded as not directly required: requests in /opt/conda/envs/DSX-Python35/lib/python3.5/site-packages (from watson-machine-learning-client) (2.18.4)\n",
      "Requirement not upgraded as not directly required: six>=1.10.0 in /opt/conda/envs/DSX-Python35/lib/python3.5/site-packages (from lomond->watson-machine-learning-client) (1.11.0)\n",
      "Requirement not upgraded as not directly required: python-dateutil>=2 in /opt/conda/envs/DSX-Python35/lib/python3.5/site-packages (from pandas->watson-machine-learning-client) (2.6.1)\n",
      "Requirement not upgraded as not directly required: pytz>=2011k in /opt/conda/envs/DSX-Python35/lib/python3.5/site-packages (from pandas->watson-machine-learning-client) (2018.3)\n",
      "Requirement not upgraded as not directly required: numpy>=1.9.0 in /opt/conda/envs/DSX-Python35/lib/python3.5/site-packages (from pandas->watson-machine-learning-client) (1.13.3)\n",
      "Requirement not upgraded as not directly required: ibm-cos-sdk-s3transfer==2.*,>=2.0.0 in /opt/conda/envs/DSX-Python35/lib/python3.5/site-packages (from ibm-cos-sdk->watson-machine-learning-client) (2.0.1)\n",
      "Requirement not upgraded as not directly required: ibm-cos-sdk-core==2.*,>=2.0.0 in /opt/conda/envs/DSX-Python35/lib/python3.5/site-packages (from ibm-cos-sdk->watson-machine-learning-client) (2.0.1)\n",
      "Requirement not upgraded as not directly required: chardet<3.1.0,>=3.0.2 in /opt/conda/envs/DSX-Python35/lib/python3.5/site-packages (from requests->watson-machine-learning-client) (3.0.4)\n",
      "Requirement not upgraded as not directly required: idna<2.7,>=2.5 in /opt/conda/envs/DSX-Python35/lib/python3.5/site-packages (from requests->watson-machine-learning-client) (2.6)\n",
      "Requirement not upgraded as not directly required: jmespath<1.0.0,>=0.7.1 in /opt/conda/envs/DSX-Python35/lib/python3.5/site-packages (from ibm-cos-sdk-core==2.*,>=2.0.0->ibm-cos-sdk->watson-machine-learning-client) (0.9.3)\n",
      "Requirement not upgraded as not directly required: docutils>=0.10 in /opt/conda/envs/DSX-Python35/lib/python3.5/site-packages (from ibm-cos-sdk-core==2.*,>=2.0.0->ibm-cos-sdk->watson-machine-learning-client) (0.14)\n",
      "\u001b[31mtensorflow 1.3.0 requires tensorflow-tensorboard<0.2.0,>=0.1.0, which is not installed.\u001b[0m\n"
     ]
    }
   ],
   "source": [
    "!pip install watson-machine-learning-client --upgrade"
   ]
  },
  {
   "cell_type": "code",
   "execution_count": 63,
   "metadata": {},
   "outputs": [],
   "source": [
    "from watson_machine_learning_client import WatsonMachineLearningAPIClient"
   ]
  },
  {
   "cell_type": "code",
   "execution_count": 64,
   "metadata": {},
   "outputs": [],
   "source": [
    "wml_credentials={\"url\":\"https://eu-gb.ml.cloud.ibm.com\",\n",
    "                 \"access_key\":\"814edUwidBPAo0FzUbjtNRYGqaTsRu042w19Y8JLTCoi\",\n",
    "                 \"username\":\"88632294-f105-416c-8803-b3c5a1e3c1b9\",\n",
    "                 \"password\":\"abb8f456-133f-4bca-91e1-01eed99c6952\",\n",
    "                 \"instance_id\":\"de1c3184-06fa-4d87-9d99-2cc85c30b5b1\"}"
   ]
  },
  {
   "cell_type": "code",
   "execution_count": 65,
   "metadata": {},
   "outputs": [],
   "source": [
    "client=WatsonMachineLearningAPIClient(wml_credentials)"
   ]
  },
  {
   "cell_type": "code",
   "execution_count": 66,
   "metadata": {},
   "outputs": [],
   "source": [
    "model_props={client.repository.ModelMetaNames.AUTHOR_NAME:\"Durga\",\n",
    "             client.repository.ModelMetaNames.AUTHOR_EMAIL:\"durgalakshmi2016@gmail.com\",\n",
    "             client.repository.ModelMetaNames.NAME:\"employee attrition prediction\"}\n",
    "    "
   ]
  },
  {
   "cell_type": "code",
   "execution_count": 67,
   "metadata": {},
   "outputs": [],
   "source": [
    "model_s=client.repository.store_model(model,meta_props=model_props)"
   ]
  },
  {
   "cell_type": "code",
   "execution_count": 68,
   "metadata": {},
   "outputs": [
    {
     "name": "stdout",
     "output_type": "stream",
     "text": [
      "------------------------------------  -----------------------------  ------------------------  -----------------  -----------------\n",
      "GUID                                  NAME                           CREATED                   FRAMEWORK          TYPE\n",
      "20abff61-93de-43cd-9313-6c4f5b841082  employee attrition prediction  2019-06-28T09:55:00.085Z  scikit-learn-0.19  model\n",
      "c6454149-48dc-4181-b456-ea1de5ad0788  employee attrition prediction  2019-06-28T05:32:39.597Z  scikit-learn-0.19  model\n",
      "2e301bd7-da99-45f0-8b45-01005fc36727  employee attrition prediction  2019-06-28T05:32:49.845Z  scikit-learn-0.19  online deployment\n",
      "------------------------------------  -----------------------------  ------------------------  -----------------  -----------------\n"
     ]
    }
   ],
   "source": [
    "client.repository.list()"
   ]
  },
  {
   "cell_type": "code",
   "execution_count": 69,
   "metadata": {},
   "outputs": [],
   "source": [
    "published_model_uid=client.repository.get_model_uid(model_s)"
   ]
  },
  {
   "cell_type": "code",
   "execution_count": 70,
   "metadata": {},
   "outputs": [
    {
     "data": {
      "text/plain": [
       "'20abff61-93de-43cd-9313-6c4f5b841082'"
      ]
     },
     "execution_count": 70,
     "metadata": {},
     "output_type": "execute_result"
    }
   ],
   "source": [
    "published_model_uid"
   ]
  },
  {
   "cell_type": "code",
   "execution_count": 71,
   "metadata": {},
   "outputs": [
    {
     "name": "stdout",
     "output_type": "stream",
     "text": [
      "\n",
      "\n",
      "#######################################################################################\n",
      "\n",
      "Synchronous deployment creation for uid: '20abff61-93de-43cd-9313-6c4f5b841082' started\n",
      "\n",
      "#######################################################################################\n",
      "\n",
      "\n",
      "INITIALIZING\n",
      "DEPLOY_SUCCESS\n",
      "\n",
      "\n",
      "------------------------------------------------------------------------------------------------\n",
      "Successfully finished deployment creation, deployment_uid='ae44de94-c5fa-4b0b-a301-5728d092bdb5'\n",
      "------------------------------------------------------------------------------------------------\n",
      "\n",
      "\n"
     ]
    }
   ],
   "source": [
    "d=client.deployments.create(published_model_uid,name=\"employee attrition prediction\")"
   ]
  },
  {
   "cell_type": "code",
   "execution_count": 72,
   "metadata": {},
   "outputs": [],
   "source": [
    "scoring_endpoint=client.deployments.get_scoring_url(d)"
   ]
  },
  {
   "cell_type": "code",
   "execution_count": 73,
   "metadata": {},
   "outputs": [
    {
     "data": {
      "text/plain": [
       "'https://eu-gb.ml.cloud.ibm.com/v3/wml_instances/de1c3184-06fa-4d87-9d99-2cc85c30b5b1/deployments/ae44de94-c5fa-4b0b-a301-5728d092bdb5/online'"
      ]
     },
     "execution_count": 73,
     "metadata": {},
     "output_type": "execute_result"
    }
   ],
   "source": [
    "scoring_endpoint"
   ]
  },
  {
   "cell_type": "code",
   "execution_count": null,
   "metadata": {},
   "outputs": [],
   "source": []
  }
 ],
 "metadata": {
  "kernelspec": {
   "display_name": "Python 3",
   "language": "python",
   "name": "python3"
  },
  "language_info": {
   "codemirror_mode": {
    "name": "ipython",
    "version": 3
   },
   "file_extension": ".py",
   "mimetype": "text/x-python",
   "name": "python",
   "nbconvert_exporter": "python",
   "pygments_lexer": "ipython3",
   "version": "3.7.3"
  }
 },
 "nbformat": 4,
 "nbformat_minor": 2
}
